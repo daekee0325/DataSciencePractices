{
  "nbformat": 4,
  "nbformat_minor": 0,
  "metadata": {
    "colab": {
      "name": "ch3_리스트 추가 및 삭제_09_24.ipynb",
      "provenance": [],
      "collapsed_sections": [],
      "include_colab_link": true
    },
    "kernelspec": {
      "name": "python3",
      "display_name": "Python 3"
    },
    "accelerator": "GPU"
  },
  "cells": [
    {
      "cell_type": "markdown",
      "metadata": {
        "id": "view-in-github",
        "colab_type": "text"
      },
      "source": [
        "<a href=\"https://colab.research.google.com/github/daekee0325/DataSciencePractices/blob/master/ch3_%EB%A6%AC%EC%8A%A4%ED%8A%B8_%EC%B6%94%EA%B0%80_%EB%B0%8F_%EC%82%AD%EC%A0%9C_09_24.ipynb\" target=\"_parent\"><img src=\"https://colab.research.google.com/assets/colab-badge.svg\" alt=\"Open In Colab\"/></a>"
      ]
    },
    {
      "cell_type": "code",
      "metadata": {
        "id": "NvaJjWCEFDUI",
        "colab_type": "code",
        "colab": {}
      },
      "source": [
        ""
      ],
      "execution_count": 0,
      "outputs": []
    },
    {
      "cell_type": "markdown",
      "metadata": {
        "id": "4iLFJt0JFSqD",
        "colab_type": "text"
      },
      "source": [
        "## 5.1 append(): 리스트에 새로운 요소를 추가"
      ]
    },
    {
      "cell_type": "code",
      "metadata": {
        "id": "fxK8ILI7FfNJ",
        "colab_type": "code",
        "colab": {
          "base_uri": "https://localhost:8080/",
          "height": 35
        },
        "outputId": "0b257d27-4f9b-4c35-8b1b-a4c36367be07"
      },
      "source": [
        "color = ['red', 'blue', 'green']\n",
        "color.append('white')\n",
        "color"
      ],
      "execution_count": 3,
      "outputs": [
        {
          "output_type": "execute_result",
          "data": {
            "text/plain": [
              "['red', 'blue', 'green', 'white']"
            ]
          },
          "metadata": {
            "tags": []
          },
          "execution_count": 3
        }
      ]
    },
    {
      "cell_type": "code",
      "metadata": {
        "id": "NGk_AeBoFr59",
        "colab_type": "code",
        "colab": {
          "base_uri": "https://localhost:8080/",
          "height": 35
        },
        "outputId": "3a1812f5-b152-4d80-ce67-b628c78fe106"
      },
      "source": [
        "color.append(['a','b'])\n",
        "color"
      ],
      "execution_count": 5,
      "outputs": [
        {
          "output_type": "execute_result",
          "data": {
            "text/plain": [
              "['red', 'blue', 'green', 'white', ['a', 'b']]"
            ]
          },
          "metadata": {
            "tags": []
          },
          "execution_count": 5
        }
      ]
    },
    {
      "cell_type": "markdown",
      "metadata": {
        "id": "jzBpMBwfGMx_",
        "colab_type": "text"
      },
      "source": [
        "## 5.2 extend(): 리스트의 덧셈 연산과 같다"
      ]
    },
    {
      "cell_type": "code",
      "metadata": {
        "id": "ULvTFtUwGFQv",
        "colab_type": "code",
        "colab": {
          "base_uri": "https://localhost:8080/",
          "height": 35
        },
        "outputId": "0245845f-d459-480f-8fa6-3a1dce7419e3"
      },
      "source": [
        "color1 = ['red', 'blue', 'green']\n",
        "color1.extend(['black','purple']) #리스트에 새로운 리스트 추가\n",
        "color1"
      ],
      "execution_count": 8,
      "outputs": [
        {
          "output_type": "execute_result",
          "data": {
            "text/plain": [
              "['red', 'blue', 'green', 'black', 'purple']"
            ]
          },
          "metadata": {
            "tags": []
          },
          "execution_count": 8
        }
      ]
    },
    {
      "cell_type": "markdown",
      "metadata": {
        "id": "CPOo7Wa5G5_T",
        "colab_type": "text"
      },
      "source": [
        "## 5.3 insert(): 리스크의 특정 위치에 값을 추가"
      ]
    },
    {
      "cell_type": "code",
      "metadata": {
        "id": "ZIzo3xujGris",
        "colab_type": "code",
        "colab": {
          "base_uri": "https://localhost:8080/",
          "height": 35
        },
        "outputId": "02b9648a-7db7-4b50-b356-f8fc5b6b5eb0"
      },
      "source": [
        "color = ['red', 'blue', 'green']\n",
        "color.insert(0, 'orange')\n",
        "color"
      ],
      "execution_count": 13,
      "outputs": [
        {
          "output_type": "execute_result",
          "data": {
            "text/plain": [
              "['orange', 'red', 'blue', 'green']"
            ]
          },
          "metadata": {
            "tags": []
          },
          "execution_count": 13
        }
      ]
    },
    {
      "cell_type": "markdown",
      "metadata": {
        "id": "h20R9o4_H6y_",
        "colab_type": "text"
      },
      "source": [
        "## 5.4 remove(): 리스트에 있는 특정 값을 지우는 기능"
      ]
    },
    {
      "cell_type": "code",
      "metadata": {
        "id": "9XVA01aGH5jV",
        "colab_type": "code",
        "colab": {
          "base_uri": "https://localhost:8080/",
          "height": 35
        },
        "outputId": "4302b7e1-e234-44f8-ea3b-dff6fd79607b"
      },
      "source": [
        "color1"
      ],
      "execution_count": 20,
      "outputs": [
        {
          "output_type": "execute_result",
          "data": {
            "text/plain": [
              "['orange', 'blue', 'green', 'black', 'purple']"
            ]
          },
          "metadata": {
            "tags": []
          },
          "execution_count": 20
        }
      ]
    },
    {
      "cell_type": "code",
      "metadata": {
        "id": "w_Qu3YJNIy_-",
        "colab_type": "code",
        "colab": {
          "base_uri": "https://localhost:8080/",
          "height": 35
        },
        "outputId": "c55805c9-fef0-48e8-feb1-90193cb48d66"
      },
      "source": [
        "color1[1]"
      ],
      "execution_count": 21,
      "outputs": [
        {
          "output_type": "execute_result",
          "data": {
            "text/plain": [
              "'blue'"
            ]
          },
          "metadata": {
            "tags": []
          },
          "execution_count": 21
        }
      ]
    },
    {
      "cell_type": "code",
      "metadata": {
        "id": "VDBek-PiHZeY",
        "colab_type": "code",
        "colab": {
          "base_uri": "https://localhost:8080/",
          "height": 35
        },
        "outputId": "984d4728-d5c9-4444-fbaf-acab9c17eeea"
      },
      "source": [
        "color1.remove('blue')\n",
        "color1"
      ],
      "execution_count": 22,
      "outputs": [
        {
          "output_type": "execute_result",
          "data": {
            "text/plain": [
              "['orange', 'green', 'black', 'purple']"
            ]
          },
          "metadata": {
            "tags": []
          },
          "execution_count": 22
        }
      ]
    },
    {
      "cell_type": "markdown",
      "metadata": {
        "id": "4z_9qgc4JIkP",
        "colab_type": "text"
      },
      "source": [
        "## 5.5 리스트 값의 변경과 삭제 del 함수\n",
        "del 함수는 파이썬이 자체적으로 가지고 있는 삭제 함수이며:  del 객체"
      ]
    },
    {
      "cell_type": "code",
      "metadata": {
        "id": "Nj-wyv38JHdG",
        "colab_type": "code",
        "colab": {
          "base_uri": "https://localhost:8080/",
          "height": 35
        },
        "outputId": "df908580-501a-4540-b6df-914eef6a7207"
      },
      "source": [
        "color = ['red', 'blue', 'green']\n",
        "color[0] = 'orange' # 인덱스 0에 'orange'를 할당\n",
        "color"
      ],
      "execution_count": 28,
      "outputs": [
        {
          "output_type": "execute_result",
          "data": {
            "text/plain": [
              "['orange', 'blue', 'green']"
            ]
          },
          "metadata": {
            "tags": []
          },
          "execution_count": 28
        }
      ]
    },
    {
      "cell_type": "code",
      "metadata": {
        "id": "HoFxvzi4IbDs",
        "colab_type": "code",
        "colab": {
          "base_uri": "https://localhost:8080/",
          "height": 35
        },
        "outputId": "8b47ab37-cf56-4cc3-ae48-ee19e3e30c8e"
      },
      "source": [
        "del color[0]\n",
        "color"
      ],
      "execution_count": 29,
      "outputs": [
        {
          "output_type": "execute_result",
          "data": {
            "text/plain": [
              "['blue', 'green']"
            ]
          },
          "metadata": {
            "tags": []
          },
          "execution_count": 29
        }
      ]
    },
    {
      "cell_type": "markdown",
      "metadata": {
        "id": "rQpHlfqeKGUK",
        "colab_type": "text"
      },
      "source": [
        "## reverse():리스트 순서 뒤집기"
      ]
    },
    {
      "cell_type": "code",
      "metadata": {
        "id": "rdVTF4INJ7rq",
        "colab_type": "code",
        "colab": {
          "base_uri": "https://localhost:8080/",
          "height": 35
        },
        "outputId": "e9c2e5d0-2b9a-4870-9d4c-28e26bab54a7"
      },
      "source": [
        "a = ['a', 'c', 'b']\n",
        "a.reverse()\n",
        "a"
      ],
      "execution_count": 33,
      "outputs": [
        {
          "output_type": "execute_result",
          "data": {
            "text/plain": [
              "['b', 'c', 'a']"
            ]
          },
          "metadata": {
            "tags": []
          },
          "execution_count": 33
        }
      ]
    },
    {
      "cell_type": "markdown",
      "metadata": {
        "id": "NESQl8wkLwf2",
        "colab_type": "text"
      },
      "source": [
        "## index(): 값의 위치반환"
      ]
    },
    {
      "cell_type": "code",
      "metadata": {
        "id": "--rM_MdKLvzO",
        "colab_type": "code",
        "colab": {
          "base_uri": "https://localhost:8080/",
          "height": 35
        },
        "outputId": "a2640d66-bd63-4f86-9833-097460f1428b"
      },
      "source": [
        "a.index('c')"
      ],
      "execution_count": 35,
      "outputs": [
        {
          "output_type": "execute_result",
          "data": {
            "text/plain": [
              "1"
            ]
          },
          "metadata": {
            "tags": []
          },
          "execution_count": 35
        }
      ]
    },
    {
      "cell_type": "code",
      "metadata": {
        "id": "Mm_FttwrLtda",
        "colab_type": "code",
        "colab": {
          "base_uri": "https://localhost:8080/",
          "height": 35
        },
        "outputId": "08c4950e-f8e4-418d-f6e4-6f13302cb774"
      },
      "source": [
        "a.index('b')"
      ],
      "execution_count": 36,
      "outputs": [
        {
          "output_type": "execute_result",
          "data": {
            "text/plain": [
              "0"
            ]
          },
          "metadata": {
            "tags": []
          },
          "execution_count": 36
        }
      ]
    },
    {
      "cell_type": "markdown",
      "metadata": {
        "id": "w3o_ksu1MfWg",
        "colab_type": "text"
      },
      "source": [
        "## pop(): 리스트 요소 삭제"
      ]
    },
    {
      "cell_type": "code",
      "metadata": {
        "id": "fT2z09owMSs2",
        "colab_type": "code",
        "colab": {
          "base_uri": "https://localhost:8080/",
          "height": 52
        },
        "outputId": "7dad6a1d-930f-4f7e-f9c8-05fee070eee9"
      },
      "source": [
        "a = ['b', 'c', 'a']\n",
        "print(a)\n",
        "a.pop() # 맨 마지막 요소를 돌려주고 요소는 삭제한다\n"
      ],
      "execution_count": 40,
      "outputs": [
        {
          "output_type": "stream",
          "text": [
            "['b', 'c', 'a']\n"
          ],
          "name": "stdout"
        },
        {
          "output_type": "execute_result",
          "data": {
            "text/plain": [
              "'a'"
            ]
          },
          "metadata": {
            "tags": []
          },
          "execution_count": 40
        }
      ]
    },
    {
      "cell_type": "code",
      "metadata": {
        "id": "hiosLMRJMsai",
        "colab_type": "code",
        "colab": {
          "base_uri": "https://localhost:8080/",
          "height": 35
        },
        "outputId": "6787f06e-73d3-4820-db78-097770783355"
      },
      "source": [
        "a = ['b', 'c', 'a']\n",
        "b = a.pop() # 맨 마지막 요소를 돌려주고 요소는 삭제한다\n",
        "print(b, a)"
      ],
      "execution_count": 41,
      "outputs": [
        {
          "output_type": "stream",
          "text": [
            "a ['b', 'c']\n"
          ],
          "name": "stdout"
        }
      ]
    },
    {
      "cell_type": "markdown",
      "metadata": {
        "id": "Un_JoIMRF2LA",
        "colab_type": "text"
      },
      "source": [
        "color_list=[\"Red\", \"Blue\", \"Green\", \"Black\"]\n",
        "리스트 3번째 값에 \"White\"를 추가\n",
        "\"Blue\"를 \"Yellow\"로 교체"
      ]
    },
    {
      "cell_type": "markdown",
      "metadata": {
        "id": "LTsmXhfVPnNr",
        "colab_type": "text"
      },
      "source": [
        "## Packing and unpacking"
      ]
    },
    {
      "cell_type": "code",
      "metadata": {
        "id": "XibZ1ynUNnqe",
        "colab_type": "code",
        "colab": {
          "base_uri": "https://localhost:8080/",
          "height": 35
        },
        "outputId": "8777b2eb-5463-4e91-f7c3-a73c87ff0ffd"
      },
      "source": [
        "t = [1,2,3]    # packs value into variable\n",
        "t"
      ],
      "execution_count": 49,
      "outputs": [
        {
          "output_type": "execute_result",
          "data": {
            "text/plain": [
              "[1, 2, 3]"
            ]
          },
          "metadata": {
            "tags": []
          },
          "execution_count": 49
        }
      ]
    },
    {
      "cell_type": "code",
      "metadata": {
        "id": "Lf9JCbgyP2TM",
        "colab_type": "code",
        "colab": {
          "base_uri": "https://localhost:8080/",
          "height": 35
        },
        "outputId": "20c5fea8-edce-40f8-9658-26ed5c8671f0"
      },
      "source": [
        "a,b,c =  t\n",
        "print(t,a,b,c)"
      ],
      "execution_count": 51,
      "outputs": [
        {
          "output_type": "stream",
          "text": [
            "[1, 2, 3] 1 2 3\n"
          ],
          "name": "stdout"
        }
      ]
    },
    {
      "cell_type": "markdown",
      "metadata": {
        "id": "BhrcCuE7RcN1",
        "colab_type": "text"
      },
      "source": [
        "## 7 이차원 리스트"
      ]
    },
    {
      "cell_type": "code",
      "metadata": {
        "id": "-V4Y5rZPQkeB",
        "colab_type": "code",
        "colab": {
          "base_uri": "https://localhost:8080/",
          "height": 35
        },
        "outputId": "070faffa-2f5c-4a02-9197-39f42f87bdb1"
      },
      "source": [
        "kor_score = [49, 79, 20, 100, 80]\n",
        "math_score= [43, 59, 85, 30, 90]\n",
        "eng_score = [49, 79, 48, 60, 100]\n",
        "mid_score = [kor_score, math_score, eng_score]\n",
        "mid_score\n",
        "             "
      ],
      "execution_count": 2,
      "outputs": [
        {
          "output_type": "execute_result",
          "data": {
            "text/plain": [
              "[[49, 79, 20, 100, 80], [43, 59, 85, 30, 90], [49, 79, 48, 60, 100]]"
            ]
          },
          "metadata": {
            "tags": []
          },
          "execution_count": 2
        }
      ]
    },
    {
      "cell_type": "markdown",
      "metadata": {
        "id": "qqJ_RAx37rZ7",
        "colab_type": "text"
      },
      "source": [
        "## 이차원리스트  값에 접근하기"
      ]
    },
    {
      "cell_type": "code",
      "metadata": {
        "id": "61lTRNAs7n8l",
        "colab_type": "code",
        "colab": {
          "base_uri": "https://localhost:8080/",
          "height": 52
        },
        "outputId": "41aea695-3cec-46a3-8c2f-a7df3c07a817"
      },
      "source": [
        "print(mid_score[0:2]) # [[49, 79, 20, 100, 80], [43, 59, 85, 30, 90]]\n",
        "print(mid_score[0][3]) # 100"
      ],
      "execution_count": 11,
      "outputs": [
        {
          "output_type": "stream",
          "text": [
            "[[49, 79, 20, 100, 80], [43, 59, 85, 30, 90]]\n",
            "100\n"
          ],
          "name": "stdout"
        }
      ]
    },
    {
      "cell_type": "code",
      "metadata": {
        "id": "5S0dMAyRSKYk",
        "colab_type": "code",
        "colab": {
          "base_uri": "https://localhost:8080/",
          "height": 141
        },
        "outputId": "7621f4ec-fd6e-424a-f79c-a7c9e04e6227"
      },
      "source": [
        "import pandas as pd\n",
        "score = pd.DataFrame(mid_score)\n",
        "score"
      ],
      "execution_count": 68,
      "outputs": [
        {
          "output_type": "execute_result",
          "data": {
            "text/html": [
              "<div>\n",
              "<style scoped>\n",
              "    .dataframe tbody tr th:only-of-type {\n",
              "        vertical-align: middle;\n",
              "    }\n",
              "\n",
              "    .dataframe tbody tr th {\n",
              "        vertical-align: top;\n",
              "    }\n",
              "\n",
              "    .dataframe thead th {\n",
              "        text-align: right;\n",
              "    }\n",
              "</style>\n",
              "<table border=\"1\" class=\"dataframe\">\n",
              "  <thead>\n",
              "    <tr style=\"text-align: right;\">\n",
              "      <th></th>\n",
              "      <th>0</th>\n",
              "      <th>1</th>\n",
              "      <th>2</th>\n",
              "      <th>3</th>\n",
              "      <th>4</th>\n",
              "    </tr>\n",
              "  </thead>\n",
              "  <tbody>\n",
              "    <tr>\n",
              "      <th>0</th>\n",
              "      <td>49</td>\n",
              "      <td>79</td>\n",
              "      <td>20</td>\n",
              "      <td>100</td>\n",
              "      <td>80</td>\n",
              "    </tr>\n",
              "    <tr>\n",
              "      <th>1</th>\n",
              "      <td>43</td>\n",
              "      <td>59</td>\n",
              "      <td>85</td>\n",
              "      <td>30</td>\n",
              "      <td>90</td>\n",
              "    </tr>\n",
              "    <tr>\n",
              "      <th>2</th>\n",
              "      <td>49</td>\n",
              "      <td>79</td>\n",
              "      <td>48</td>\n",
              "      <td>60</td>\n",
              "      <td>100</td>\n",
              "    </tr>\n",
              "  </tbody>\n",
              "</table>\n",
              "</div>"
            ],
            "text/plain": [
              "    0   1   2    3    4\n",
              "0  49  79  20  100   80\n",
              "1  43  59  85   30   90\n",
              "2  49  79  48   60  100"
            ]
          },
          "metadata": {
            "tags": []
          },
          "execution_count": 68
        }
      ]
    },
    {
      "cell_type": "code",
      "metadata": {
        "id": "ZHBeFg2ZUZtr",
        "colab_type": "code",
        "colab": {}
      },
      "source": [
        "name_list = ['john','mary','peter','jeff','bill']"
      ],
      "execution_count": 0,
      "outputs": []
    },
    {
      "cell_type": "markdown",
      "metadata": {
        "id": "L5Q06COiVohM",
        "colab_type": "text"
      },
      "source": [
        "## 리스트와 튜플을 데이터프레임으로 변환: 참고 "
      ]
    },
    {
      "cell_type": "code",
      "metadata": {
        "id": "lcmgkP9iSj7e",
        "colab_type": "code",
        "colab": {
          "base_uri": "https://localhost:8080/",
          "height": 203
        },
        "outputId": "1651f913-8695-484a-c27d-6b285e308a5e"
      },
      "source": [
        "import pandas as pd\n",
        "score = pd.DataFrame({'name':name_list,'kor':kor_score, 'math':math_score, 'eng':eng_score})\n",
        "score"
      ],
      "execution_count": 62,
      "outputs": [
        {
          "output_type": "execute_result",
          "data": {
            "text/html": [
              "<div>\n",
              "<style scoped>\n",
              "    .dataframe tbody tr th:only-of-type {\n",
              "        vertical-align: middle;\n",
              "    }\n",
              "\n",
              "    .dataframe tbody tr th {\n",
              "        vertical-align: top;\n",
              "    }\n",
              "\n",
              "    .dataframe thead th {\n",
              "        text-align: right;\n",
              "    }\n",
              "</style>\n",
              "<table border=\"1\" class=\"dataframe\">\n",
              "  <thead>\n",
              "    <tr style=\"text-align: right;\">\n",
              "      <th></th>\n",
              "      <th>name</th>\n",
              "      <th>kor</th>\n",
              "      <th>math</th>\n",
              "      <th>eng</th>\n",
              "    </tr>\n",
              "  </thead>\n",
              "  <tbody>\n",
              "    <tr>\n",
              "      <th>0</th>\n",
              "      <td>john</td>\n",
              "      <td>49</td>\n",
              "      <td>43</td>\n",
              "      <td>49</td>\n",
              "    </tr>\n",
              "    <tr>\n",
              "      <th>1</th>\n",
              "      <td>mary</td>\n",
              "      <td>79</td>\n",
              "      <td>59</td>\n",
              "      <td>79</td>\n",
              "    </tr>\n",
              "    <tr>\n",
              "      <th>2</th>\n",
              "      <td>peter</td>\n",
              "      <td>20</td>\n",
              "      <td>85</td>\n",
              "      <td>48</td>\n",
              "    </tr>\n",
              "    <tr>\n",
              "      <th>3</th>\n",
              "      <td>jeff</td>\n",
              "      <td>100</td>\n",
              "      <td>30</td>\n",
              "      <td>60</td>\n",
              "    </tr>\n",
              "    <tr>\n",
              "      <th>4</th>\n",
              "      <td>bill</td>\n",
              "      <td>80</td>\n",
              "      <td>90</td>\n",
              "      <td>100</td>\n",
              "    </tr>\n",
              "  </tbody>\n",
              "</table>\n",
              "</div>"
            ],
            "text/plain": [
              "    name  kor  math  eng\n",
              "0   john   49    43   49\n",
              "1   mary   79    59   79\n",
              "2  peter   20    85   48\n",
              "3   jeff  100    30   60\n",
              "4   bill   80    90  100"
            ]
          },
          "metadata": {
            "tags": []
          },
          "execution_count": 62
        }
      ]
    },
    {
      "cell_type": "code",
      "metadata": {
        "id": "oXqMXEhMTO1K",
        "colab_type": "code",
        "colab": {
          "base_uri": "https://localhost:8080/",
          "height": 316
        },
        "outputId": "8a19c864-cd0e-4e43-df88-16cb96f4d1e8"
      },
      "source": [
        "import matplotlib.pyplot as plt\n",
        "score.plot(kind='bar', x='name', y='kor')"
      ],
      "execution_count": 64,
      "outputs": [
        {
          "output_type": "execute_result",
          "data": {
            "text/plain": [
              "<matplotlib.axes._subplots.AxesSubplot at 0x7fc9a5e3c978>"
            ]
          },
          "metadata": {
            "tags": []
          },
          "execution_count": 64
        },
        {
          "output_type": "display_data",
          "data": {
            "image/png": "[encoded data removed]",
            "text/plain": [
              "<Figure size 432x288 with 1 Axes>"
            ]
          },
          "metadata": {
            "tags": []
          }
        }
      ]
    },
    {
      "cell_type": "markdown",
      "metadata": {
        "id": "fzU1Dbu3-Eqg",
        "colab_type": "text"
      },
      "source": [
        "## 05 리스트의 메모리 관리 방식"
      ]
    },
    {
      "cell_type": "code",
      "metadata": {
        "id": "-4OhLJBKVeg2",
        "colab_type": "code",
        "colab": {
          "base_uri": "https://localhost:8080/",
          "height": 35
        },
        "outputId": "15828e63-9279-4940-95ed-5ba6cb38837b"
      },
      "source": [
        "kor_score = [49, 79, 20, 100, 80]\n",
        "math_score= [43, 59, 85, 30, 90]\n",
        "eng_score = [49, 79, 48, 60, 100]\n",
        "mid_score = [kor_score, math_score, eng_score]\n",
        "mid_score\n",
        "math_score[0] = 100 # 점수 수정\n",
        "print(mid_score) # 파이썬은 값을 저장하는 것이 아니라 메모리(주소)를 저장한다.\n"
      ],
      "execution_count": 14,
      "outputs": [
        {
          "output_type": "stream",
          "text": [
            "[[49, 79, 20, 100, 80], [100, 59, 85, 30, 90], [49, 79, 48, 60, 100]]\n"
          ],
          "name": "stdout"
        }
      ]
    },
    {
      "cell_type": "code",
      "metadata": {
        "id": "7S2h1Tpj-U4z",
        "colab_type": "code",
        "colab": {
          "base_uri": "https://localhost:8080/",
          "height": 35
        },
        "outputId": "990103d6-122a-4e97-99c1-5e93818a6bcb"
      },
      "source": [
        "x = 8\n",
        "y = x\n",
        "x = 100\n",
        "y   # y 값은 100이 아니고 8이다"
      ],
      "execution_count": 15,
      "outputs": [
        {
          "output_type": "execute_result",
          "data": {
            "text/plain": [
              "8"
            ]
          },
          "metadata": {
            "tags": []
          },
          "execution_count": 15
        }
      ]
    },
    {
      "cell_type": "markdown",
      "metadata": {
        "id": "Jz86H_Ey_6nF",
        "colab_type": "text"
      },
      "source": [
        "### 내장 함수 사용 id():이 함수는 객체의 고유 한 ID를 반환합니다. \n",
        "is및 is not연산자를 이용해 객체가 같은 ID가 있는지 여부를 평가합니다"
      ]
    },
    {
      "cell_type": "code",
      "metadata": {
        "id": "lHDITsQT_JCj",
        "colab_type": "code",
        "colab": {
          "base_uri": "https://localhost:8080/",
          "height": 70
        },
        "outputId": "6ad2422d-5f27-4760-f3d2-97f842526d48"
      },
      "source": [
        "L = [1, 2, 3]\n",
        "print(id(L))\n",
        "L += [4]\n",
        "print(L)\n",
        "id(L)"
      ],
      "execution_count": 18,
      "outputs": [
        {
          "output_type": "stream",
          "text": [
            "140657952140488\n",
            "[1, 2, 3, 4]\n"
          ],
          "name": "stdout"
        },
        {
          "output_type": "execute_result",
          "data": {
            "text/plain": [
              "140657952140488"
            ]
          },
          "metadata": {
            "tags": []
          },
          "execution_count": 18
        }
      ]
    },
    {
      "cell_type": "code",
      "metadata": {
        "id": "P08GQKbmApy9",
        "colab_type": "code",
        "colab": {
          "base_uri": "https://localhost:8080/",
          "height": 35
        },
        "outputId": "2dc42931-62ba-491d-d884-be757f490f57"
      },
      "source": [
        "[1,2,3,4] + [5]"
      ],
      "execution_count": 19,
      "outputs": [
        {
          "output_type": "execute_result",
          "data": {
            "text/plain": [
              "[1, 2, 3, 4, 5]"
            ]
          },
          "metadata": {
            "tags": []
          },
          "execution_count": 19
        }
      ]
    },
    {
      "cell_type": "code",
      "metadata": {
        "id": "5pDxyWt8BUc8",
        "colab_type": "code",
        "colab": {
          "base_uri": "https://localhost:8080/",
          "height": 35
        },
        "outputId": "faf00e76-e171-4cf9-c03f-36e64c08c122"
      },
      "source": [
        "a = [\"color\",1,0.2]\n",
        "color = [\"yellow\", \"blue\", \"green\",\"black\",\"purple\" ]\n",
        "a[0] = color\n",
        "print(a)"
      ],
      "execution_count": 21,
      "outputs": [
        {
          "output_type": "stream",
          "text": [
            "[['yellow', 'blue', 'green', 'black', 'purple'], 1, 0.2]\n"
          ],
          "name": "stdout"
        }
      ]
    },
    {
      "cell_type": "markdown",
      "metadata": {
        "id": "7nLbRQGvCpDR",
        "colab_type": "text"
      },
      "source": [
        "## 리스트의 저장 방식"
      ]
    },
    {
      "cell_type": "code",
      "metadata": {
        "id": "H9RswYSrCeVV",
        "colab_type": "code",
        "colab": {
          "base_uri": "https://localhost:8080/",
          "height": 35
        },
        "outputId": "2e2cc1e2-7479-4150-ca9c-0bca11b01211"
      },
      "source": [
        "a = [5,4,3,2,1]\n",
        "b = [1,2,3,4,5]\n",
        "b = a\n",
        "print(b)"
      ],
      "execution_count": 39,
      "outputs": [
        {
          "output_type": "stream",
          "text": [
            "[5, 4, 3, 2, 1]\n"
          ],
          "name": "stdout"
        }
      ]
    },
    {
      "cell_type": "code",
      "metadata": {
        "id": "NYBy6u1UC6FR",
        "colab_type": "code",
        "colab": {
          "base_uri": "https://localhost:8080/",
          "height": 52
        },
        "outputId": "ead4ddfa-d2c4-4386-e46f-95910c81b4ee"
      },
      "source": [
        "a.sort()\n",
        "print(a)\n",
        "print(b)"
      ],
      "execution_count": 40,
      "outputs": [
        {
          "output_type": "stream",
          "text": [
            "[1, 2, 3, 4, 5]\n",
            "[1, 2, 3, 4, 5]\n"
          ],
          "name": "stdout"
        }
      ]
    },
    {
      "cell_type": "code",
      "metadata": {
        "id": "fwM5XUdWC_0U",
        "colab_type": "code",
        "colab": {
          "base_uri": "https://localhost:8080/",
          "height": 35
        },
        "outputId": "20121349-1aa5-4e8b-f87c-5d6e2ee70843"
      },
      "source": [
        "b = [6,7,8,9,10]\n",
        "print(a,b)"
      ],
      "execution_count": 41,
      "outputs": [
        {
          "output_type": "stream",
          "text": [
            "[1, 2, 3, 4, 5] [6, 7, 8, 9, 10]\n"
          ],
          "name": "stdout"
        }
      ]
    },
    {
      "cell_type": "code",
      "metadata": {
        "id": "xv76VFpcEC6z",
        "colab_type": "code",
        "colab": {
          "base_uri": "https://localhost:8080/",
          "height": 35
        },
        "outputId": "fb1058e6-af6e-4fed-c95d-8db7fc8f4e27"
      },
      "source": [
        "list_a = [3,2,1,4]\n",
        "list_b = list_a.sort()\n",
        "print(list_a, list_b)\n"
      ],
      "execution_count": 42,
      "outputs": [
        {
          "output_type": "stream",
          "text": [
            "[1, 2, 3, 4] None\n"
          ],
          "name": "stdout"
        }
      ]
    },
    {
      "cell_type": "code",
      "metadata": {
        "id": "Fbab-4omH-Ku",
        "colab_type": "code",
        "colab": {
          "base_uri": "https://localhost:8080/",
          "height": 35
        },
        "outputId": "ec3b7762-ad92-4bef-d0a2-85c8b8563c32"
      },
      "source": [
        "list_a = [3,2,1,4]\n",
        "list_a.sort()\n",
        "list_b = a\n",
        "print(list_a, list_b)"
      ],
      "execution_count": 43,
      "outputs": [
        {
          "output_type": "stream",
          "text": [
            "[1, 2, 3, 4] [1, 2, 3, 4, 5]\n"
          ],
          "name": "stdout"
        }
      ]
    },
    {
      "cell_type": "code",
      "metadata": {
        "id": "iHwaGeNiIP30",
        "colab_type": "code",
        "colab": {}
      },
      "source": [
        ""
      ],
      "execution_count": 0,
      "outputs": []
    }
  ]
}