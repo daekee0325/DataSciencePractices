{
  "nbformat": 4,
  "nbformat_minor": 0,
  "metadata": {
    "kernelspec": {
      "display_name": "Python 3",
      "language": "python",
      "name": "python3"
    },
    "language_info": {
      "codemirror_mode": {
        "name": "ipython",
        "version": 3
      },
      "file_extension": ".py",
      "mimetype": "text/x-python",
      "name": "python",
      "nbconvert_exporter": "python",
      "pygments_lexer": "ipython3",
      "version": "3.7.2"
    },
    "colab": {
      "name": "09_05_2019.ipynb",
      "version": "0.3.2",
      "provenance": [],
      "include_colab_link": true
    }
  },
  "cells": [
    {
      "cell_type": "markdown",
      "metadata": {
        "id": "view-in-github",
        "colab_type": "text"
      },
      "source": [
        "<a href=\"https://colab.research.google.com/github/daekee0325/DataSciencePractices/blob/master/09_05_2019.ipynb\" target=\"_parent\"><img src=\"https://colab.research.google.com/assets/colab-badge.svg\" alt=\"Open In Colab\"/></a>"
      ]
    },
    {
      "cell_type": "markdown",
      "metadata": {
        "id": "8IbtTM523JS4",
        "colab_type": "text"
      },
      "source": [
        "# 파이썬 언어의 장점"
      ]
    },
    {
      "cell_type": "markdown",
      "metadata": {
        "id": "Tg8Ix0Vu3JS5",
        "colab_type": "text"
      },
      "source": [
        "## 컴파일 언어와 비교한 인터프리터 언어"
      ]
    },
    {
      "cell_type": "markdown",
      "metadata": {
        "id": "TYeaL6e-3JS6",
        "colab_type": "text"
      },
      "source": [
        "\n",
        "Python에 대해 알아보기에 앞서 인터프리터에 대해 간략이 알아보자.\n",
        "소스 코드를 기계어로 컴파일해서 실행파일을 만들고 실행하는 컴파일 언어와는 다르게 인터프러터 언어는 코드를 한 줄씩 읽어 내려가며 실행하는 프로그래밍 언어이다. 인터프리터 방식을 쓰는 프로그래밍 언어는 많은데 대표적인 것이 Python이다.\n"
      ]
    },
    {
      "cell_type": "markdown",
      "metadata": {
        "id": "PaEAIbip3JS7",
        "colab_type": "text"
      },
      "source": [
        "## 인터프리터 언어의 장점"
      ]
    },
    {
      "cell_type": "markdown",
      "metadata": {
        "id": "oMwGaC_Z3JS8",
        "colab_type": "text"
      },
      "source": [
        "인터프리터는 실행 시마다 소스 코드를 한 줄씩 기계어로 번역하는 방식이기 때문에 실행 속도는 컴파일 언어보다 느리다. 그렇다면 왜 사용할까? 인터프리터 언어는 프로그램 수정이 간단하다는 장점이 있다. 컴파일러는 소스 코드를 번역해서 실행 파일을 만들기 때문에 프로그램에 수정 사항이 발생하면 소스 코드를 다시 컴파일해야 한다. 하지만 인터프리터는 소스 코드를 수정해서 바로 실행시킬 수 있다."
      ]
    },
    {
      "cell_type": "markdown",
      "metadata": {
        "id": "uOU2dBiu3JS8",
        "colab_type": "text"
      },
      "source": [
        "## PYTHON"
      ]
    },
    {
      "cell_type": "markdown",
      "metadata": {
        "id": "PJJlxell3JS9",
        "colab_type": "text"
      },
      "source": [
        "Python은 1991년 프로그래머인 귀도 반 로섬(Guido van Rossum)이 발표한 고급 프로그래밍 언어로, 플랫폼 독립적이며 인터프리터식, 객체지향적, 동적 타이핑(dynamically typed) 대화형 언어이다. 파이썬이라는 이름은 귀도가 좋아하는 코미디 〈Monty Python’s Flying Circus〉에서 따온 것이다."
      ]
    },
    {
      "cell_type": "markdown",
      "metadata": {
        "id": "-yW_07IQ3JS-",
        "colab_type": "text"
      },
      "source": [
        "\n",
        "- 인터프리터 기반의 객체지향 언어\n",
        "- 플랫폼에 구애받지 않는 언어\n",
        "- 동적 타이핑 방식의 언어\n",
        "- 리플렉션을 지원하는 언어\n",
        "- 확장성이 뛰어난 언어"
      ]
    },
    {
      "cell_type": "markdown",
      "metadata": {
        "id": "d5oY7P0S3JS-",
        "colab_type": "text"
      },
      "source": [
        "## 정수연산"
      ]
    },
    {
      "cell_type": "code",
      "metadata": {
        "id": "uZuCgE6e3JS_",
        "colab_type": "code",
        "colab": {},
        "outputId": "afb0d1c7-3f95-4659-ee6f-f9fd5f45f0f9"
      },
      "source": [
        "1 + 1"
      ],
      "execution_count": 0,
      "outputs": [
        {
          "output_type": "execute_result",
          "data": {
            "text/plain": [
              "2"
            ]
          },
          "metadata": {
            "tags": []
          },
          "execution_count": 2
        }
      ]
    },
    {
      "cell_type": "markdown",
      "metadata": {
        "id": "bVyCmHTt3JTD",
        "colab_type": "text"
      },
      "source": [
        "띄어쓰기가 위와 달라도 계산은 된다. \n",
        "하지만 파이썬에서 다음 코드처럼 띄어쓰는 것은 권장하지 않는다. \n",
        "일반적인 띄어 쓰기 규칙은 다음과 같다.\n",
        "\n",
        "코드의 처음과 마지막에는 빈칸을 넣지 않는다.\n",
        "빈칸은 항상 하나만 넣는다.\n",
        "숫자나 연산 기호 사이는 한 칸을 띄운다.\n",
        "괄호를 연 직후나 닫기 직전에는 빈칸을 넣지 않는다."
      ]
    },
    {
      "cell_type": "code",
      "metadata": {
        "id": "qn_mSeCy3JTE",
        "colab_type": "code",
        "colab": {},
        "outputId": "1932da45-53bb-45fd-dcf3-478633923107"
      },
      "source": [
        "if a == 10:\n",
        "print('10입니다.')    # 들여쓰기 문법 에러"
      ],
      "execution_count": 0,
      "outputs": [
        {
          "output_type": "error",
          "ename": "IndentationError",
          "evalue": "expected an indented block (<ipython-input-3-e4afc6d5d5ce>, line 2)",
          "traceback": [
            "\u001b[1;36m  File \u001b[1;32m\"<ipython-input-3-e4afc6d5d5ce>\"\u001b[1;36m, line \u001b[1;32m2\u001b[0m\n\u001b[1;33m    print('10입니다.')    # 들여쓰기 문법 에러\u001b[0m\n\u001b[1;37m        ^\u001b[0m\n\u001b[1;31mIndentationError\u001b[0m\u001b[1;31m:\u001b[0m expected an indented block\n"
          ]
        }
      ]
    },
    {
      "cell_type": "markdown",
      "metadata": {
        "id": "o-GIZCt83JTH",
        "colab_type": "text"
      },
      "source": [
        "들여쓰기는 코드를 읽기 쉽도록 일정한 간격을 띄워서 작성하는 방법입니다. 특히 파이썬은 들여쓰기 자체가 문법입니다. 예를 들어 if의 다음 줄은 항상 들여쓰기를 해야 합니다. 만약 들여쓰기를 하지 않으면 문법 에러이므로 코드가 실행되지 않습니다."
      ]
    },
    {
      "cell_type": "code",
      "metadata": {
        "id": "YumTY9Xa3JTH",
        "colab_type": "code",
        "colab": {},
        "outputId": "739109ca-4bf4-4f18-c787-89b864cf9e12"
      },
      "source": [
        "a = 10\n",
        "if a == 10:\n",
        "     print('10입니다.')"
      ],
      "execution_count": 0,
      "outputs": [
        {
          "output_type": "stream",
          "text": [
            "10입니다.\n"
          ],
          "name": "stdout"
        }
      ]
    },
    {
      "cell_type": "code",
      "metadata": {
        "id": "WIljOtJh3JTJ",
        "colab_type": "code",
        "colab": {}
      },
      "source": [
        "파이썬에서 들여쓰기 방법은 공백(스페이스) 2칸, 4칸, 탭(tab) 등 여러 가지 방법이 있습니다."
      ],
      "execution_count": 0,
      "outputs": []
    },
    {
      "cell_type": "markdown",
      "metadata": {
        "id": "OFwq429F3JTM",
        "colab_type": "text"
      },
      "source": [
        "<img src=\"https://dojang.io/pluginfile.php/13387/mod_page/content/3/004001.png\" id=\"yui_3_17_2_1_1567595106813_41\">"
      ]
    },
    {
      "cell_type": "markdown",
      "metadata": {
        "id": "WTo-mqGk3JTM",
        "colab_type": "text"
      },
      "source": [
        "## 세미콜론"
      ]
    },
    {
      "cell_type": "markdown",
      "metadata": {
        "id": "Zd_ZCmje3JTN",
        "colab_type": "text"
      },
      "source": [
        "많은 프로그래밍 언어들은 구문이 끝날 때 ;(세미콜론)을 붙여야 합니다. 하지만 파이썬은 세미콜론을 붙이지 않습니다. 단, 세미콜론을 붙여도 문법 에러는 발생하지 않습니다. 보통 한 줄에 여러 구문을 사용할 때 세미콜론으로 구분해줍니다."
      ]
    },
    {
      "cell_type": "code",
      "metadata": {
        "id": "5NGs73y23JTO",
        "colab_type": "code",
        "colab": {},
        "outputId": "32bbfdd4-ac45-4095-e76a-00f5d275b346"
      },
      "source": [
        "print('Hello'); print('1234')"
      ],
      "execution_count": 0,
      "outputs": [
        {
          "output_type": "stream",
          "text": [
            "Hello\n",
            "1234\n"
          ],
          "name": "stdout"
        }
      ]
    },
    {
      "cell_type": "markdown",
      "metadata": {
        "id": "t710PkVN3JTQ",
        "colab_type": "text"
      },
      "source": [
        "## 주석"
      ]
    },
    {
      "cell_type": "code",
      "metadata": {
        "id": "_cpOL3qm3JTR",
        "colab_type": "code",
        "colab": {},
        "outputId": "ff9e8089-b44b-4536-8401-2c1294defd5e"
      },
      "source": [
        "# Hello, world! 출력\n",
        "print('Hello, world!')"
      ],
      "execution_count": 0,
      "outputs": [
        {
          "output_type": "stream",
          "text": [
            "Hello, world!\n"
          ],
          "name": "stdout"
        }
      ]
    },
    {
      "cell_type": "markdown",
      "metadata": {
        "id": "9rliEWui3JTU",
        "colab_type": "text"
      },
      "source": [
        "코드 맨 앞에 #을 사용하면 해당 줄은 모두 주석이 됩니다. 따라서 다음 print 함수는 동작하지 않습니다"
      ]
    },
    {
      "cell_type": "code",
      "metadata": {
        "id": "aE6v9Am23JTU",
        "colab_type": "code",
        "colab": {}
      },
      "source": [
        "#print('Hello, world!')"
      ],
      "execution_count": 0,
      "outputs": []
    },
    {
      "cell_type": "markdown",
      "metadata": {
        "id": "mjBz9Ig53JTW",
        "colab_type": "text"
      },
      "source": [
        "## 숫자 계산하기 "
      ]
    },
    {
      "cell_type": "markdown",
      "metadata": {
        "id": "qNS1p_HD3JTX",
        "colab_type": "text"
      },
      "source": [
        "<img src=\"https://dojang.io/pluginfile.php/13417/mod_page/content/5/005001.png\" id=\"yui_3_17_2_1_1567596004571_36\">"
      ]
    },
    {
      "cell_type": "code",
      "metadata": {
        "id": "1yISAyBc3JTX",
        "colab_type": "code",
        "colab": {},
        "outputId": "196f5991-4e34-4dff-e7a0-c7445a5f57c3"
      },
      "source": [
        "1 + 1"
      ],
      "execution_count": 0,
      "outputs": [
        {
          "output_type": "execute_result",
          "data": {
            "text/plain": [
              "2"
            ]
          },
          "metadata": {
            "tags": []
          },
          "execution_count": 10
        }
      ]
    },
    {
      "cell_type": "code",
      "metadata": {
        "id": "aY7QDs3i3JTZ",
        "colab_type": "code",
        "colab": {},
        "outputId": "29d50c32-eeba-4e03-9daf-365d1d2c9f76"
      },
      "source": [
        "1 - 2"
      ],
      "execution_count": 0,
      "outputs": [
        {
          "output_type": "execute_result",
          "data": {
            "text/plain": [
              "-1"
            ]
          },
          "metadata": {
            "tags": []
          },
          "execution_count": 12
        }
      ]
    },
    {
      "cell_type": "code",
      "metadata": {
        "id": "yu8Jx3uS3JTc",
        "colab_type": "code",
        "colab": {},
        "outputId": "342c5cdf-9609-44b3-bb33-d4c2ced01caf"
      },
      "source": [
        "2 * 2"
      ],
      "execution_count": 0,
      "outputs": [
        {
          "output_type": "execute_result",
          "data": {
            "text/plain": [
              "4"
            ]
          },
          "metadata": {
            "tags": []
          },
          "execution_count": 13
        }
      ]
    },
    {
      "cell_type": "code",
      "metadata": {
        "id": "z30Q28kO3JTe",
        "colab_type": "code",
        "colab": {},
        "outputId": "9ad10764-6e97-4d6b-dfd6-33a94db6554f"
      },
      "source": [
        "5 / 2"
      ],
      "execution_count": 0,
      "outputs": [
        {
          "output_type": "execute_result",
          "data": {
            "text/plain": [
              "2.5"
            ]
          },
          "metadata": {
            "tags": []
          },
          "execution_count": 14
        }
      ]
    },
    {
      "cell_type": "markdown",
      "metadata": {
        "id": "Br0AMzSO3JTh",
        "colab_type": "text"
      },
      "source": [
        "##  나눗셈 후 소수점 이하를 버리는 // 연산자"
      ]
    },
    {
      "cell_type": "code",
      "metadata": {
        "id": "RJZqLqbR3JTh",
        "colab_type": "code",
        "colab": {},
        "outputId": "17d962e3-4de7-4bbb-b718-2346e5958e5d"
      },
      "source": [
        "5 // 2"
      ],
      "execution_count": 0,
      "outputs": [
        {
          "output_type": "execute_result",
          "data": {
            "text/plain": [
              "2"
            ]
          },
          "metadata": {
            "tags": []
          },
          "execution_count": 15
        }
      ]
    },
    {
      "cell_type": "markdown",
      "metadata": {
        "id": "yNJFeTeE3JTj",
        "colab_type": "text"
      },
      "source": [
        "## 나눗셈 후 나머지를 구하는 % 연산자"
      ]
    },
    {
      "cell_type": "code",
      "metadata": {
        "id": "qDD_1DT33JTk",
        "colab_type": "code",
        "colab": {},
        "outputId": "7e4b5744-57f9-45d2-bf3b-0482d5db508a"
      },
      "source": [
        "5 % 2"
      ],
      "execution_count": 0,
      "outputs": [
        {
          "output_type": "execute_result",
          "data": {
            "text/plain": [
              "1"
            ]
          },
          "metadata": {
            "tags": []
          },
          "execution_count": 16
        }
      ]
    },
    {
      "cell_type": "markdown",
      "metadata": {
        "id": "X4wt-cZE3JTm",
        "colab_type": "text"
      },
      "source": [
        "## 객체의 자료형 알아내기"
      ]
    },
    {
      "cell_type": "code",
      "metadata": {
        "id": "uNbMyOdW3JTm",
        "colab_type": "code",
        "colab": {},
        "outputId": "1b1daa0f-9472-452e-e3eb-f967190b1f05"
      },
      "source": [
        "type(10)"
      ],
      "execution_count": 0,
      "outputs": [
        {
          "output_type": "execute_result",
          "data": {
            "text/plain": [
              "int"
            ]
          },
          "metadata": {
            "tags": []
          },
          "execution_count": 17
        }
      ]
    },
    {
      "cell_type": "code",
      "metadata": {
        "id": "CHyT90G63JTs",
        "colab_type": "code",
        "colab": {}
      },
      "source": [
        ""
      ],
      "execution_count": 0,
      "outputs": []
    }
  ]
}